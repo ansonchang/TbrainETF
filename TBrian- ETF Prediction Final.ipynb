{
 "cells": [
  {
   "cell_type": "code",
   "execution_count": 1,
   "metadata": {
    "collapsed": true
   },
   "outputs": [],
   "source": [
    "import math, time\n",
    "import numpy as np\n",
    "import pandas as pd"
   ]
  },
  {
   "cell_type": "code",
   "execution_count": 2,
   "metadata": {
    "collapsed": true
   },
   "outputs": [],
   "source": [
    "df = pd.read_csv(\"taetfp.csv\", encoding='big5')"
   ]
  },
  {
   "cell_type": "code",
   "execution_count": 3,
   "metadata": {
    "collapsed": true
   },
   "outputs": [],
   "source": [
    "df[\"代碼\"]='00'+df[\"代碼\"].apply(str)"
   ]
  },
  {
   "cell_type": "code",
   "execution_count": 4,
   "metadata": {},
   "outputs": [
    {
     "name": "stdout",
     "output_type": "stream",
     "text": [
      "<class 'pandas.core.frame.DataFrame'>\n",
      "RangeIndex: 19665 entries, 0 to 19664\n",
      "Data columns (total 8 columns):\n",
      "代碼         19665 non-null object\n",
      "日期         19665 non-null int64\n",
      "中文簡稱       19665 non-null object\n",
      "開盤價(元)     19665 non-null float64\n",
      "最高價(元)     19665 non-null float64\n",
      "最低價(元)     19665 non-null float64\n",
      "收盤價(元)     19665 non-null float64\n",
      "成交張數(張)    19665 non-null object\n",
      "dtypes: float64(4), int64(1), object(3)\n",
      "memory usage: 1.2+ MB\n"
     ]
    }
   ],
   "source": [
    "df.info()"
   ]
  },
  {
   "cell_type": "code",
   "execution_count": 5,
   "metadata": {},
   "outputs": [
    {
     "data": {
      "text/plain": [
       "(19665, 8)"
      ]
     },
     "execution_count": 5,
     "metadata": {},
     "output_type": "execute_result"
    }
   ],
   "source": [
    "df.shape"
   ]
  },
  {
   "cell_type": "markdown",
   "metadata": {},
   "source": [
    "# Using fb prophet"
   ]
  },
  {
   "cell_type": "code",
   "execution_count": 6,
   "metadata": {
    "collapsed": true
   },
   "outputs": [],
   "source": [
    "df_submit2 = pd.DataFrame(columns=['ETFid','Mon_ud','Mon_cprice','Tue_ud','Tue_cprice','Wed_ud','Wed_cprice',\n",
    "                                  'Thu_ud','Thu_cprice','Fri_ud','Fri_cprice'])"
   ]
  },
  {
   "cell_type": "code",
   "execution_count": 7,
   "metadata": {},
   "outputs": [
    {
     "data": {
      "text/html": [
       "<div>\n",
       "<style>\n",
       "    .dataframe thead tr:only-child th {\n",
       "        text-align: right;\n",
       "    }\n",
       "\n",
       "    .dataframe thead th {\n",
       "        text-align: left;\n",
       "    }\n",
       "\n",
       "    .dataframe tbody tr th {\n",
       "        vertical-align: top;\n",
       "    }\n",
       "</style>\n",
       "<table border=\"1\" class=\"dataframe\">\n",
       "  <thead>\n",
       "    <tr style=\"text-align: right;\">\n",
       "      <th></th>\n",
       "      <th>ETFid</th>\n",
       "      <th>Mon_ud</th>\n",
       "      <th>Mon_cprice</th>\n",
       "      <th>Tue_ud</th>\n",
       "      <th>Tue_cprice</th>\n",
       "      <th>Wed_ud</th>\n",
       "      <th>Wed_cprice</th>\n",
       "      <th>Thu_ud</th>\n",
       "      <th>Thu_cprice</th>\n",
       "      <th>Fri_ud</th>\n",
       "      <th>Fri_cprice</th>\n",
       "    </tr>\n",
       "  </thead>\n",
       "  <tbody>\n",
       "  </tbody>\n",
       "</table>\n",
       "</div>"
      ],
      "text/plain": [
       "Empty DataFrame\n",
       "Columns: [ETFid, Mon_ud, Mon_cprice, Tue_ud, Tue_cprice, Wed_ud, Wed_cprice, Thu_ud, Thu_cprice, Fri_ud, Fri_cprice]\n",
       "Index: []"
      ]
     },
     "execution_count": 7,
     "metadata": {},
     "output_type": "execute_result"
    }
   ],
   "source": [
    "df_submit2"
   ]
  },
  {
   "cell_type": "code",
   "execution_count": 8,
   "metadata": {
    "collapsed": true
   },
   "outputs": [],
   "source": [
    "symbols = list(set(df[\"代碼\"]))"
   ]
  },
  {
   "cell_type": "code",
   "execution_count": 9,
   "metadata": {
    "collapsed": true
   },
   "outputs": [],
   "source": [
    "from fbprophet import Prophet"
   ]
  },
  {
   "cell_type": "code",
   "execution_count": 11,
   "metadata": {},
   "outputs": [
    {
     "name": "stderr",
     "output_type": "stream",
     "text": [
      "INFO:fbprophet.forecaster:Disabling yearly seasonality. Run prophet with yearly_seasonality=True to override this.\n",
      "INFO:fbprophet.forecaster:Disabling daily seasonality. Run prophet with daily_seasonality=True to override this.\n",
      "INFO:fbprophet.forecaster:Disabling daily seasonality. Run prophet with daily_seasonality=True to override this.\n",
      "INFO:fbprophet.forecaster:Disabling daily seasonality. Run prophet with daily_seasonality=True to override this.\n",
      "INFO:fbprophet.forecaster:Disabling daily seasonality. Run prophet with daily_seasonality=True to override this.\n",
      "INFO:fbprophet.forecaster:Disabling yearly seasonality. Run prophet with yearly_seasonality=True to override this.\n",
      "INFO:fbprophet.forecaster:Disabling daily seasonality. Run prophet with daily_seasonality=True to override this.\n",
      "INFO:fbprophet.forecaster:Disabling daily seasonality. Run prophet with daily_seasonality=True to override this.\n",
      "INFO:fbprophet.forecaster:Disabling daily seasonality. Run prophet with daily_seasonality=True to override this.\n",
      "INFO:fbprophet.forecaster:Disabling yearly seasonality. Run prophet with yearly_seasonality=True to override this.\n",
      "INFO:fbprophet.forecaster:Disabling daily seasonality. Run prophet with daily_seasonality=True to override this.\n",
      "INFO:fbprophet.forecaster:Disabling daily seasonality. Run prophet with daily_seasonality=True to override this.\n",
      "INFO:fbprophet.forecaster:Disabling daily seasonality. Run prophet with daily_seasonality=True to override this.\n",
      "INFO:fbprophet.forecaster:Disabling daily seasonality. Run prophet with daily_seasonality=True to override this.\n",
      "INFO:fbprophet.forecaster:Disabling daily seasonality. Run prophet with daily_seasonality=True to override this.\n",
      "INFO:fbprophet.forecaster:Disabling daily seasonality. Run prophet with daily_seasonality=True to override this.\n",
      "INFO:fbprophet.forecaster:Disabling daily seasonality. Run prophet with daily_seasonality=True to override this.\n",
      "INFO:fbprophet.forecaster:Disabling yearly seasonality. Run prophet with yearly_seasonality=True to override this.\n",
      "INFO:fbprophet.forecaster:Disabling daily seasonality. Run prophet with daily_seasonality=True to override this.\n",
      "INFO:fbprophet.forecaster:Disabling daily seasonality. Run prophet with daily_seasonality=True to override this.\n",
      "INFO:fbprophet.forecaster:Disabling daily seasonality. Run prophet with daily_seasonality=True to override this.\n",
      "INFO:fbprophet.forecaster:Disabling daily seasonality. Run prophet with daily_seasonality=True to override this.\n"
     ]
    }
   ],
   "source": [
    "for i in range(0, 18):\n",
    "    df4 = pd.DataFrame() \n",
    "    symbol2 = symbols[i]\n",
    "    df3 = df[df[\"代碼\"] == symbols[i]].reset_index()\n",
    "    df4['ds']=df3[\"日期\"].apply(str).str[0:4]+'-'+df3[\"日期\"].apply(str).str[4:6]+'-'+df3[\"日期\"].apply(str).str[6:8]\n",
    "    df4['y'] = np.log(df3['收盤價(元)'])            \n",
    "    m = Prophet(interval_width=0.95) # 調整基本設定值\n",
    "    m.fit(df4)    \n",
    "    future = m.make_future_dataframe(periods=5)    \n",
    "    forecast = m.predict(future)\n",
    "    forecast[['yhat', 'yhat_lower', 'yhat_upper']]=np.exp(forecast[['yhat', 'yhat_lower', 'yhat_upper']])\n",
    "    df4['y']=np.exp(df4['y'])\n",
    "    forecast=pd.concat([forecast, df4['y']], axis=1)\n",
    "    forecast['yhat2']=forecast['yhat'].shift(1)\n",
    "    forecast['y2']=forecast['y'].shift(1)\n",
    "    ud1=1\n",
    "    ud2=1\n",
    "    ud3=1\n",
    "    ud4=1\n",
    "    ud5=1\n",
    "    if forecast.iloc[len(forecast)-5]['yhat'] - forecast.iloc[len(forecast)-5]['y2'] <0: ud1= -1\n",
    "    if forecast.iloc[len(forecast)-4]['yhat'] - forecast.iloc[len(forecast)-4]['yhat2'] <0 : ud2= -1\n",
    "    if forecast.iloc[len(forecast)-3]['yhat'] - forecast.iloc[len(forecast)-3]['yhat2'] <0 : ud3= -1\n",
    "    if forecast.iloc[len(forecast)-2]['yhat'] - forecast.iloc[len(forecast)-2]['yhat2'] <0 : ud4= -1\n",
    "    if forecast.iloc[len(forecast)-1]['yhat'] - forecast.iloc[len(forecast)-1]['yhat2'] <0 : ud5= -1\n",
    "    \n",
    "    df_temp2 =  pd.DataFrame([[symbol2,ud1,forecast.iloc[len(forecast)-5]['yhat'],\n",
    "                                      ud2,forecast.iloc[len(forecast)-4]['yhat'],\n",
    "                                      ud3,forecast.iloc[len(forecast)-3]['yhat'],\n",
    "                                      ud4,forecast.iloc[len(forecast)-2]['yhat'],\n",
    "                                      ud5,forecast.iloc[len(forecast)-1]['yhat']]],\n",
    "                             columns=['ETFid','Mon_ud','Mon_cprice','Tue_ud','Tue_cprice','Wed_ud','Wed_cprice',\n",
    "                                  'Thu_ud','Thu_cprice','Fri_ud','Fri_cprice'])\n",
    "    df_submit2=df_submit2.append(df_temp2)"
   ]
  },
  {
   "cell_type": "code",
   "execution_count": 12,
   "metadata": {
    "collapsed": true
   },
   "outputs": [],
   "source": [
    "df_submit2=df_submit2.sort_values(by=['ETFid'])"
   ]
  },
  {
   "cell_type": "code",
   "execution_count": 13,
   "metadata": {
    "collapsed": true
   },
   "outputs": [],
   "source": [
    "df_submit2.to_csv('ETF_predict_fb.csv', index=False)"
   ]
  },
  {
   "cell_type": "code",
   "execution_count": null,
   "metadata": {
    "collapsed": true
   },
   "outputs": [],
   "source": []
  }
 ],
 "metadata": {
  "kernelspec": {
   "display_name": "Python 3",
   "language": "python",
   "name": "python3"
  },
  "language_info": {
   "codemirror_mode": {
    "name": "ipython",
    "version": 3
   },
   "file_extension": ".py",
   "mimetype": "text/x-python",
   "name": "python",
   "nbconvert_exporter": "python",
   "pygments_lexer": "ipython3",
   "version": "3.6.3"
  }
 },
 "nbformat": 4,
 "nbformat_minor": 2
}
