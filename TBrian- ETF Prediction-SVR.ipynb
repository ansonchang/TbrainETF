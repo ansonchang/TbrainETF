{
 "cells": [
  {
   "cell_type": "code",
   "execution_count": 38,
   "metadata": {},
   "outputs": [],
   "source": [
    "import math, time\n",
    "import numpy as np\n",
    "import pandas as pd\n",
    "import matplotlib.pyplot as plt\n",
    "%matplotlib inline  \n",
    "\n",
    "from sklearn import preprocessing\n",
    "from sklearn.model_selection import train_test_split\n",
    "from sklearn import datasets, linear_model\n",
    "from sklearn.svm import SVR\n",
    "from sklearn.metrics import mean_squared_error"
   ]
  },
  {
   "cell_type": "code",
   "execution_count": 39,
   "metadata": {
    "collapsed": true
   },
   "outputs": [],
   "source": [
    "df = pd.read_csv(\"taetfp.csv\", encoding='big5')"
   ]
  },
  {
   "cell_type": "code",
   "execution_count": 40,
   "metadata": {
    "collapsed": true
   },
   "outputs": [],
   "source": [
    "df[\"代碼\"]='00'+df[\"代碼\"].apply(str)"
   ]
  },
  {
   "cell_type": "code",
   "execution_count": 41,
   "metadata": {},
   "outputs": [
    {
     "name": "stdout",
     "output_type": "stream",
     "text": [
      "<class 'pandas.core.frame.DataFrame'>\n",
      "RangeIndex: 19665 entries, 0 to 19664\n",
      "Data columns (total 8 columns):\n",
      "代碼         19665 non-null object\n",
      "日期         19665 non-null int64\n",
      "中文簡稱       19665 non-null object\n",
      "開盤價(元)     19665 non-null float64\n",
      "最高價(元)     19665 non-null float64\n",
      "最低價(元)     19665 non-null float64\n",
      "收盤價(元)     19665 non-null float64\n",
      "成交張數(張)    19665 non-null object\n",
      "dtypes: float64(4), int64(1), object(3)\n",
      "memory usage: 1.2+ MB\n"
     ]
    }
   ],
   "source": [
    "df.info()"
   ]
  },
  {
   "cell_type": "code",
   "execution_count": 42,
   "metadata": {},
   "outputs": [
    {
     "data": {
      "text/plain": [
       "(19665, 8)"
      ]
     },
     "execution_count": 42,
     "metadata": {},
     "output_type": "execute_result"
    }
   ],
   "source": [
    "df.shape"
   ]
  },
  {
   "cell_type": "markdown",
   "metadata": {},
   "source": [
    "# Using Linear Regression"
   ]
  },
  {
   "cell_type": "code",
   "execution_count": 43,
   "metadata": {
    "collapsed": true
   },
   "outputs": [],
   "source": [
    "forecast_out = int(5) "
   ]
  },
  {
   "cell_type": "code",
   "execution_count": 44,
   "metadata": {
    "collapsed": true
   },
   "outputs": [],
   "source": [
    "df_submit = pd.DataFrame(columns=['ETFid','Mon_ud','Mon_cprice','Tue_ud','Tue_cprice','Wed_ud','Wed_cprice',\n",
    "                                  'Thu_ud','Thu_cprice','Fri_ud','Fri_cprice'])"
   ]
  },
  {
   "cell_type": "code",
   "execution_count": 45,
   "metadata": {
    "collapsed": true
   },
   "outputs": [],
   "source": [
    "symbols = list(set(df[\"代碼\"]))"
   ]
  },
  {
   "cell_type": "code",
   "execution_count": 46,
   "metadata": {
    "scrolled": true
   },
   "outputs": [
    {
     "name": "stderr",
     "output_type": "stream",
     "text": [
      "C:\\Users\\Anson\\Anaconda3\\lib\\site-packages\\ipykernel_launcher.py:4: SettingWithCopyWarning: \n",
      "A value is trying to be set on a copy of a slice from a DataFrame.\n",
      "Try using .loc[row_indexer,col_indexer] = value instead\n",
      "\n",
      "See the caveats in the documentation: http://pandas.pydata.org/pandas-docs/stable/indexing.html#indexing-view-versus-copy\n",
      "  after removing the cwd from sys.path.\n"
     ]
    }
   ],
   "source": [
    "for i in range(0, 18):\n",
    "    symbol = symbols[i]\n",
    "    df2 = df[df[\"代碼\"] == symbols[i]]\n",
    "    df2['Prediction'] = df2[['收盤價(元)']].shift(-forecast_out) \n",
    "    X = np.array(df2.drop([\"Prediction\",\"中文簡稱\",\"代碼\",\"成交張數(張)\"], 1))\n",
    "    X = preprocessing.scale(X)\n",
    "    X_forecast = X[-forecast_out:] \n",
    "    X = X[:-forecast_out] \n",
    "    y = np.array(df2['Prediction'])\n",
    "    y = y[:-forecast_out]\n",
    "    X_train, X_test, y_train, y_test = train_test_split(X, y, test_size = 0.2)\n",
    "    #clf = linear_model.LinearRegression()\n",
    "    clf = SVR(C=1,kernel='rbf', epsilon=0.2)    \n",
    "    clf.fit(X_train,y_train)    \n",
    "    confidence = clf.score(X_test, y_test) \n",
    "    #print(\"confidence: \", confidence)    \n",
    "    forecast_prediction = clf.predict(X_forecast)\n",
    "    #print(forecast_prediction)\n",
    "    \n",
    "    ud1=1\n",
    "    ud2=1\n",
    "    ud3=1\n",
    "    ud4=1\n",
    "    ud5=1\n",
    "    if forecast_prediction[0] - y[len(y)-1] < 0: ud1= -1\n",
    "    if forecast_prediction[1] - forecast_prediction[0] < 0: ud2= -1\n",
    "    if forecast_prediction[2] - forecast_prediction[1] < 0: ud3= -1\n",
    "    if forecast_prediction[3] - forecast_prediction[2] < 0: ud4= -1\n",
    "    if forecast_prediction[4] - forecast_prediction[3] < 0: ud5= -1    \n",
    "    \n",
    "    df_temp =  pd.DataFrame([[symbol,ud1,forecast_prediction[0],ud2,forecast_prediction[1],ud3,forecast_prediction[2],\n",
    "                          ud4,forecast_prediction[3],ud5,forecast_prediction[4]]],\n",
    "                         columns=['ETFid','Mon_ud','Mon_cprice','Tue_ud','Tue_cprice','Wed_ud','Wed_cprice',\n",
    "                                  'Thu_ud','Thu_cprice','Fri_ud','Fri_cprice'])\n",
    "    df_submit=df_submit.append(df_temp)"
   ]
  },
  {
   "cell_type": "code",
   "execution_count": 47,
   "metadata": {
    "collapsed": true
   },
   "outputs": [],
   "source": [
    "df_submit=df_submit.sort_values(by=['ETFid'])"
   ]
  },
  {
   "cell_type": "code",
   "execution_count": 48,
   "metadata": {
    "collapsed": true
   },
   "outputs": [],
   "source": [
    "df_submit.to_csv('ETF_predict_SVR.csv', index=False)"
   ]
  },
  {
   "cell_type": "code",
   "execution_count": null,
   "metadata": {
    "collapsed": true
   },
   "outputs": [],
   "source": []
  }
 ],
 "metadata": {
  "kernelspec": {
   "display_name": "Python 3",
   "language": "python",
   "name": "python3"
  },
  "language_info": {
   "codemirror_mode": {
    "name": "ipython",
    "version": 3
   },
   "file_extension": ".py",
   "mimetype": "text/x-python",
   "name": "python",
   "nbconvert_exporter": "python",
   "pygments_lexer": "ipython3",
   "version": "3.6.3"
  }
 },
 "nbformat": 4,
 "nbformat_minor": 2
}
