{
 "cells": [
  {
   "cell_type": "code",
   "execution_count": 216,
   "metadata": {
    "collapsed": true
   },
   "outputs": [],
   "source": [
    "import math, time\n",
    "import numpy as np\n",
    "import pandas as pd\n",
    "import matplotlib.pyplot as plt\n",
    "%matplotlib inline  "
   ]
  },
  {
   "cell_type": "code",
   "execution_count": 217,
   "metadata": {
    "collapsed": true
   },
   "outputs": [],
   "source": [
    "# Get prediction data for 3 weeks\n",
    "# Prediction this week\n",
    "df = pd.read_csv(\"ETF/predict_pre0.csv\", encoding='big5')\n",
    "# Prediction last week\n",
    "df_pre1 = pd.read_csv(\"ETF/predict_pre1.csv\", encoding='big5')\n",
    "# Prediction the week before last week\n",
    "df_pre2 = pd.read_csv(\"ETF/predict_pre2.csv\", encoding='big5')"
   ]
  },
  {
   "cell_type": "code",
   "execution_count": 218,
   "metadata": {
    "collapsed": true
   },
   "outputs": [],
   "source": [
    "# Get ETF actual price last week\n",
    "df_act = pd.read_csv(\"ETF/actual_price.csv\", encoding='big5')"
   ]
  },
  {
   "cell_type": "code",
   "execution_count": 219,
   "metadata": {
    "collapsed": true
   },
   "outputs": [],
   "source": [
    "# Set weighting for 3 weeks prediction, can change anytime\n",
    "w= 0.5 # Score uncertain [0 .. 10]\n",
    "w_pre1 = 0.5 # Score is worst [0 .. 10]\n",
    "w_pre2 = 10 # Score is best [0 .. 10]"
   ]
  },
  {
   "cell_type": "code",
   "execution_count": 220,
   "metadata": {},
   "outputs": [],
   "source": [
    "df_w = df\n",
    "df_w['act_price']=df_act['Fri_cprice']"
   ]
  },
  {
   "cell_type": "code",
   "execution_count": 221,
   "metadata": {},
   "outputs": [],
   "source": [
    "# Set Weighting Data\n",
    "df_w['Mon_cprice'] = (df['Mon_cprice']*w+ df_pre1['Mon_cprice']*w_pre1 + df_pre2['Mon_cprice']*w_pre2)/(w+w_pre1+w_pre2)\n",
    "df_w['Tue_cprice'] = (df['Tue_cprice']*w+ df_pre1['Tue_cprice']*w_pre1 + df_pre2['Tue_cprice']*w_pre2)/(w+w_pre1+w_pre2)\n",
    "df_w['Wed_cprice'] = (df['Wed_cprice']*w+ df_pre1['Wed_cprice']*w_pre1 + df_pre2['Wed_cprice']*w_pre2)/(w+w_pre1+w_pre2)\n",
    "df_w['Thu_cprice'] = (df['Thu_cprice']*w+ df_pre1['Thu_cprice']*w_pre1 + df_pre2['Thu_cprice']*w_pre2)/(w+w_pre1+w_pre2)\n",
    "df_w['Fri_cprice'] = (df['Fri_cprice']*w+ df_pre1['Fri_cprice']*w_pre1 + df_pre2['Fri_cprice']*w_pre2)/(w+w_pre1+w_pre2)\n",
    "df_w['Mon_ud']=1\n",
    "df_w['Tue_ud']=1\n",
    "df_w['Wed_ud']=1\n",
    "df_w['Thu_ud']=1\n",
    "df_w['Fri_ud']=1"
   ]
  },
  {
   "cell_type": "code",
   "execution_count": 222,
   "metadata": {},
   "outputs": [],
   "source": [
    "df_w.loc[df_w['act_price']>df_w['Mon_cprice'],\"Mon_ud\"]=-1\n",
    "df_w.loc[df_w['Mon_cprice']>df_w['Tue_cprice'],\"Tue_ud\"]=-1\n",
    "df_w.loc[df_w['Tue_cprice']>df_w['Wed_cprice'],\"Wed_ud\"]=-1\n",
    "df_w.loc[df_w['Wed_cprice']>df_w['Thu_cprice'],\"Thu_ud\"]=-1\n",
    "df_w.loc[df_w['Thu_cprice']>df_w['Fri_cprice'],\"Fri_ud\"]=-1"
   ]
  },
  {
   "cell_type": "code",
   "execution_count": 223,
   "metadata": {},
   "outputs": [],
   "source": [
    "df_w=df_w.drop(['act_price'],axis=1)"
   ]
  },
  {
   "cell_type": "code",
   "execution_count": 225,
   "metadata": {},
   "outputs": [],
   "source": [
    "df_w.to_csv('ETF_predict_weight.csv', index=False)"
   ]
  },
  {
   "cell_type": "code",
   "execution_count": null,
   "metadata": {
    "collapsed": true
   },
   "outputs": [],
   "source": []
  },
  {
   "cell_type": "code",
   "execution_count": null,
   "metadata": {
    "collapsed": true
   },
   "outputs": [],
   "source": []
  }
 ],
 "metadata": {
  "kernelspec": {
   "display_name": "Python 3",
   "language": "python",
   "name": "python3"
  },
  "language_info": {
   "codemirror_mode": {
    "name": "ipython",
    "version": 3
   },
   "file_extension": ".py",
   "mimetype": "text/x-python",
   "name": "python",
   "nbconvert_exporter": "python",
   "pygments_lexer": "ipython3",
   "version": "3.6.3"
  }
 },
 "nbformat": 4,
 "nbformat_minor": 2
}
